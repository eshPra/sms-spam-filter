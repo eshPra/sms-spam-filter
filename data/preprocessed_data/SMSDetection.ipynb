{
  "nbformat": 4,
  "nbformat_minor": 0,
  "metadata": {
    "colab": {
      "provenance": []
    },
    "kernelspec": {
      "name": "python3",
      "display_name": "Python 3"
    },
    "language_info": {
      "name": "python"
    }
  },
  "cells": [
    {
      "cell_type": "code",
      "source": [
        "import pandas as pd\n",
        "import numpy as np\n",
        "import regex as re\n",
        "import io\n",
        "from google.colab import files"
      ],
      "metadata": {
        "id": "-h9czhUWKYKR"
      },
      "execution_count": null,
      "outputs": []
    },
    {
      "cell_type": "code",
      "source": [
        "# Upload the message_dataset_50k.csv file\n",
        "uploaded = files.upload()\n",
        "\n",
        "# Check if uploaded\n",
        "if 'message_dataset_50k.csv' not in uploaded:\n",
        "    raise FileNotFoundError(\"Please upload 'message_dataset_50k.csv'\")\n",
        "else:\n",
        "    print(\"✅ File uploaded successfully!\")"
      ],
      "metadata": {
        "colab": {
          "base_uri": "https://localhost:8080/",
          "height": 89
        },
        "id": "yK-MEJU1Kvtb",
        "outputId": "968ad641-02f7-44ea-eee6-0e5d2cc182f5"
      },
      "execution_count": null,
      "outputs": [
        {
          "output_type": "display_data",
          "data": {
            "text/plain": [
              "<IPython.core.display.HTML object>"
            ],
            "text/html": [
              "\n",
              "     <input type=\"file\" id=\"files-3c0270d9-2bdc-48c7-8d6d-f3b76f19ade6\" name=\"files[]\" multiple disabled\n",
              "        style=\"border:none\" />\n",
              "     <output id=\"result-3c0270d9-2bdc-48c7-8d6d-f3b76f19ade6\">\n",
              "      Upload widget is only available when the cell has been executed in the\n",
              "      current browser session. Please rerun this cell to enable.\n",
              "      </output>\n",
              "      <script>// Copyright 2017 Google LLC\n",
              "//\n",
              "// Licensed under the Apache License, Version 2.0 (the \"License\");\n",
              "// you may not use this file except in compliance with the License.\n",
              "// You may obtain a copy of the License at\n",
              "//\n",
              "//      http://www.apache.org/licenses/LICENSE-2.0\n",
              "//\n",
              "// Unless required by applicable law or agreed to in writing, software\n",
              "// distributed under the License is distributed on an \"AS IS\" BASIS,\n",
              "// WITHOUT WARRANTIES OR CONDITIONS OF ANY KIND, either express or implied.\n",
              "// See the License for the specific language governing permissions and\n",
              "// limitations under the License.\n",
              "\n",
              "/**\n",
              " * @fileoverview Helpers for google.colab Python module.\n",
              " */\n",
              "(function(scope) {\n",
              "function span(text, styleAttributes = {}) {\n",
              "  const element = document.createElement('span');\n",
              "  element.textContent = text;\n",
              "  for (const key of Object.keys(styleAttributes)) {\n",
              "    element.style[key] = styleAttributes[key];\n",
              "  }\n",
              "  return element;\n",
              "}\n",
              "\n",
              "// Max number of bytes which will be uploaded at a time.\n",
              "const MAX_PAYLOAD_SIZE = 100 * 1024;\n",
              "\n",
              "function _uploadFiles(inputId, outputId) {\n",
              "  const steps = uploadFilesStep(inputId, outputId);\n",
              "  const outputElement = document.getElementById(outputId);\n",
              "  // Cache steps on the outputElement to make it available for the next call\n",
              "  // to uploadFilesContinue from Python.\n",
              "  outputElement.steps = steps;\n",
              "\n",
              "  return _uploadFilesContinue(outputId);\n",
              "}\n",
              "\n",
              "// This is roughly an async generator (not supported in the browser yet),\n",
              "// where there are multiple asynchronous steps and the Python side is going\n",
              "// to poll for completion of each step.\n",
              "// This uses a Promise to block the python side on completion of each step,\n",
              "// then passes the result of the previous step as the input to the next step.\n",
              "function _uploadFilesContinue(outputId) {\n",
              "  const outputElement = document.getElementById(outputId);\n",
              "  const steps = outputElement.steps;\n",
              "\n",
              "  const next = steps.next(outputElement.lastPromiseValue);\n",
              "  return Promise.resolve(next.value.promise).then((value) => {\n",
              "    // Cache the last promise value to make it available to the next\n",
              "    // step of the generator.\n",
              "    outputElement.lastPromiseValue = value;\n",
              "    return next.value.response;\n",
              "  });\n",
              "}\n",
              "\n",
              "/**\n",
              " * Generator function which is called between each async step of the upload\n",
              " * process.\n",
              " * @param {string} inputId Element ID of the input file picker element.\n",
              " * @param {string} outputId Element ID of the output display.\n",
              " * @return {!Iterable<!Object>} Iterable of next steps.\n",
              " */\n",
              "function* uploadFilesStep(inputId, outputId) {\n",
              "  const inputElement = document.getElementById(inputId);\n",
              "  inputElement.disabled = false;\n",
              "\n",
              "  const outputElement = document.getElementById(outputId);\n",
              "  outputElement.innerHTML = '';\n",
              "\n",
              "  const pickedPromise = new Promise((resolve) => {\n",
              "    inputElement.addEventListener('change', (e) => {\n",
              "      resolve(e.target.files);\n",
              "    });\n",
              "  });\n",
              "\n",
              "  const cancel = document.createElement('button');\n",
              "  inputElement.parentElement.appendChild(cancel);\n",
              "  cancel.textContent = 'Cancel upload';\n",
              "  const cancelPromise = new Promise((resolve) => {\n",
              "    cancel.onclick = () => {\n",
              "      resolve(null);\n",
              "    };\n",
              "  });\n",
              "\n",
              "  // Wait for the user to pick the files.\n",
              "  const files = yield {\n",
              "    promise: Promise.race([pickedPromise, cancelPromise]),\n",
              "    response: {\n",
              "      action: 'starting',\n",
              "    }\n",
              "  };\n",
              "\n",
              "  cancel.remove();\n",
              "\n",
              "  // Disable the input element since further picks are not allowed.\n",
              "  inputElement.disabled = true;\n",
              "\n",
              "  if (!files) {\n",
              "    return {\n",
              "      response: {\n",
              "        action: 'complete',\n",
              "      }\n",
              "    };\n",
              "  }\n",
              "\n",
              "  for (const file of files) {\n",
              "    const li = document.createElement('li');\n",
              "    li.append(span(file.name, {fontWeight: 'bold'}));\n",
              "    li.append(span(\n",
              "        `(${file.type || 'n/a'}) - ${file.size} bytes, ` +\n",
              "        `last modified: ${\n",
              "            file.lastModifiedDate ? file.lastModifiedDate.toLocaleDateString() :\n",
              "                                    'n/a'} - `));\n",
              "    const percent = span('0% done');\n",
              "    li.appendChild(percent);\n",
              "\n",
              "    outputElement.appendChild(li);\n",
              "\n",
              "    const fileDataPromise = new Promise((resolve) => {\n",
              "      const reader = new FileReader();\n",
              "      reader.onload = (e) => {\n",
              "        resolve(e.target.result);\n",
              "      };\n",
              "      reader.readAsArrayBuffer(file);\n",
              "    });\n",
              "    // Wait for the data to be ready.\n",
              "    let fileData = yield {\n",
              "      promise: fileDataPromise,\n",
              "      response: {\n",
              "        action: 'continue',\n",
              "      }\n",
              "    };\n",
              "\n",
              "    // Use a chunked sending to avoid message size limits. See b/62115660.\n",
              "    let position = 0;\n",
              "    do {\n",
              "      const length = Math.min(fileData.byteLength - position, MAX_PAYLOAD_SIZE);\n",
              "      const chunk = new Uint8Array(fileData, position, length);\n",
              "      position += length;\n",
              "\n",
              "      const base64 = btoa(String.fromCharCode.apply(null, chunk));\n",
              "      yield {\n",
              "        response: {\n",
              "          action: 'append',\n",
              "          file: file.name,\n",
              "          data: base64,\n",
              "        },\n",
              "      };\n",
              "\n",
              "      let percentDone = fileData.byteLength === 0 ?\n",
              "          100 :\n",
              "          Math.round((position / fileData.byteLength) * 100);\n",
              "      percent.textContent = `${percentDone}% done`;\n",
              "\n",
              "    } while (position < fileData.byteLength);\n",
              "  }\n",
              "\n",
              "  // All done.\n",
              "  yield {\n",
              "    response: {\n",
              "      action: 'complete',\n",
              "    }\n",
              "  };\n",
              "}\n",
              "\n",
              "scope.google = scope.google || {};\n",
              "scope.google.colab = scope.google.colab || {};\n",
              "scope.google.colab._files = {\n",
              "  _uploadFiles,\n",
              "  _uploadFilesContinue,\n",
              "};\n",
              "})(self);\n",
              "</script> "
            ]
          },
          "metadata": {}
        },
        {
          "output_type": "stream",
          "name": "stdout",
          "text": [
            "Saving message_dataset_50k.csv to message_dataset_50k.csv\n",
            "✅ File uploaded successfully!\n"
          ]
        }
      ]
    },
    {
      "cell_type": "code",
      "source": [
        "# Read the CSV — no header, two columns: message and category\n",
        "df = pd.read_csv(io.BytesIO(uploaded['message_dataset_50k.csv']),\n",
        "                 names=['message', 'category'],\n",
        "                 header=None)\n",
        "\n",
        "print(f\"📊 Total raw messages: {len(df)}\")\n",
        "print(\"\\n🔍 First few rows:\")\n",
        "print(df.head())"
      ],
      "metadata": {
        "colab": {
          "base_uri": "https://localhost:8080/"
        },
        "id": "AK78AtMmKxMq",
        "outputId": "2d27e7d2-e9b6-4cfe-ae1e-736efa050786"
      },
      "execution_count": null,
      "outputs": [
        {
          "output_type": "stream",
          "name": "stdout",
          "text": [
            "📊 Total raw messages: 50001\n",
            "\n",
            "🔍 First few rows:\n",
            "                                             message       category\n",
            "0                                            Message       Category\n",
            "1  Final notice. Update your info: https://verify...           Spam\n",
            "2  Reset your password now at https://get-rich-fa...           Spam\n",
            "3  Your transaction ID is TXN471861. Please keep ...  Transactional\n",
            "4  Your package with tracking ID 162556 has been ...  Transactional\n"
          ]
        }
      ]
    },
    {
      "cell_type": "code",
      "source": [
        "def clean_text_keep_urls(text):\n",
        "    if pd.isna(text):\n",
        "        return \"\"\n",
        "    text = str(text).strip()\n",
        "    text = re.sub(r'\\s+', ' ', text)  # Normalize spaces\n",
        "    return text.lower()\n",
        "\n",
        "# Apply cleaning\n",
        "print(\"🧹 Cleaning messages...\")\n",
        "df['cleaned_message'] = df['message'].apply(clean_text_keep_urls)"
      ],
      "metadata": {
        "colab": {
          "base_uri": "https://localhost:8080/"
        },
        "id": "qpyoJV-oK4FX",
        "outputId": "05d8d5ab-7a8c-411c-a966-f9598a50939d"
      },
      "execution_count": null,
      "outputs": [
        {
          "output_type": "stream",
          "name": "stdout",
          "text": [
            "🧹 Cleaning messages...\n"
          ]
        }
      ]
    },
    {
      "cell_type": "code",
      "source": [
        "df.drop_duplicates(subset='message', inplace=True)"
      ],
      "metadata": {
        "id": "9e3GncQMLBy-"
      },
      "execution_count": null,
      "outputs": []
    },
    {
      "cell_type": "code",
      "source": [
        "df[['message', 'cleaned_message', 'category']].to_csv('labeled_sms_dataset.csv', index=False)\n",
        "print(f\"✅ Cleaned dataset saved! Shape: {df.shape}\")"
      ],
      "metadata": {
        "colab": {
          "base_uri": "https://localhost:8080/"
        },
        "id": "fR-DZoliLFNi",
        "outputId": "e3e65d9f-fa81-4438-88af-5710b14fb305"
      },
      "execution_count": null,
      "outputs": [
        {
          "output_type": "stream",
          "name": "stdout",
          "text": [
            "✅ Cleaned dataset saved! Shape: (4221, 3)\n"
          ]
        }
      ]
    },
    {
      "cell_type": "code",
      "source": [
        "files.download('labeled_sms_dataset.csv')"
      ],
      "metadata": {
        "colab": {
          "base_uri": "https://localhost:8080/",
          "height": 17
        },
        "id": "LLF_aJ5mLHK8",
        "outputId": "d10445e0-5a39-49e0-a25b-d4604392e0b7"
      },
      "execution_count": null,
      "outputs": [
        {
          "output_type": "display_data",
          "data": {
            "text/plain": [
              "<IPython.core.display.Javascript object>"
            ],
            "application/javascript": [
              "\n",
              "    async function download(id, filename, size) {\n",
              "      if (!google.colab.kernel.accessAllowed) {\n",
              "        return;\n",
              "      }\n",
              "      const div = document.createElement('div');\n",
              "      const label = document.createElement('label');\n",
              "      label.textContent = `Downloading \"${filename}\": `;\n",
              "      div.appendChild(label);\n",
              "      const progress = document.createElement('progress');\n",
              "      progress.max = size;\n",
              "      div.appendChild(progress);\n",
              "      document.body.appendChild(div);\n",
              "\n",
              "      const buffers = [];\n",
              "      let downloaded = 0;\n",
              "\n",
              "      const channel = await google.colab.kernel.comms.open(id);\n",
              "      // Send a message to notify the kernel that we're ready.\n",
              "      channel.send({})\n",
              "\n",
              "      for await (const message of channel.messages) {\n",
              "        // Send a message to notify the kernel that we're ready.\n",
              "        channel.send({})\n",
              "        if (message.buffers) {\n",
              "          for (const buffer of message.buffers) {\n",
              "            buffers.push(buffer);\n",
              "            downloaded += buffer.byteLength;\n",
              "            progress.value = downloaded;\n",
              "          }\n",
              "        }\n",
              "      }\n",
              "      const blob = new Blob(buffers, {type: 'application/binary'});\n",
              "      const a = document.createElement('a');\n",
              "      a.href = window.URL.createObjectURL(blob);\n",
              "      a.download = filename;\n",
              "      div.appendChild(a);\n",
              "      a.click();\n",
              "      div.remove();\n",
              "    }\n",
              "  "
            ]
          },
          "metadata": {}
        },
        {
          "output_type": "display_data",
          "data": {
            "text/plain": [
              "<IPython.core.display.Javascript object>"
            ],
            "application/javascript": [
              "download(\"download_a96a3122-a336-4472-8ab7-e28d0ebc154b\", \"labeled_sms_dataset.csv\", 510716)"
            ]
          },
          "metadata": {}
        }
      ]
    },
    {
      "cell_type": "code",
      "source": [
        "# After cleaning and deduplication\n",
        "final_df = df[['message', 'cleaned_message', 'category']].copy()\n",
        "\n",
        "# Ensure clean strings\n",
        "final_df['message'] = final_df['message'].astype(str)\n",
        "final_df['cleaned_message'] = final_df['cleaned_message'].astype(str)\n",
        "final_df['category'] = final_df['category'].astype(str)\n",
        "\n",
        "# ✅ Save with correct settings\n",
        "final_df.to_csv('labeled_sms_dataset.csv',\n",
        "                index=False,\n",
        "                encoding='utf-8',\n",
        "                lineterminator='\\n')  # ✅ Correct parameter name\n",
        "\n",
        "# Download safely\n",
        "from google.colab import files\n",
        "files.download('labeled_sms_dataset.csv')"
      ],
      "metadata": {
        "colab": {
          "base_uri": "https://localhost:8080/",
          "height": 17
        },
        "id": "3Rf1UCL-LJ_5",
        "outputId": "3b31a12c-8d0f-4d5f-b7bc-4896f3c4ca92"
      },
      "execution_count": null,
      "outputs": [
        {
          "output_type": "display_data",
          "data": {
            "text/plain": [
              "<IPython.core.display.Javascript object>"
            ],
            "application/javascript": [
              "\n",
              "    async function download(id, filename, size) {\n",
              "      if (!google.colab.kernel.accessAllowed) {\n",
              "        return;\n",
              "      }\n",
              "      const div = document.createElement('div');\n",
              "      const label = document.createElement('label');\n",
              "      label.textContent = `Downloading \"${filename}\": `;\n",
              "      div.appendChild(label);\n",
              "      const progress = document.createElement('progress');\n",
              "      progress.max = size;\n",
              "      div.appendChild(progress);\n",
              "      document.body.appendChild(div);\n",
              "\n",
              "      const buffers = [];\n",
              "      let downloaded = 0;\n",
              "\n",
              "      const channel = await google.colab.kernel.comms.open(id);\n",
              "      // Send a message to notify the kernel that we're ready.\n",
              "      channel.send({})\n",
              "\n",
              "      for await (const message of channel.messages) {\n",
              "        // Send a message to notify the kernel that we're ready.\n",
              "        channel.send({})\n",
              "        if (message.buffers) {\n",
              "          for (const buffer of message.buffers) {\n",
              "            buffers.push(buffer);\n",
              "            downloaded += buffer.byteLength;\n",
              "            progress.value = downloaded;\n",
              "          }\n",
              "        }\n",
              "      }\n",
              "      const blob = new Blob(buffers, {type: 'application/binary'});\n",
              "      const a = document.createElement('a');\n",
              "      a.href = window.URL.createObjectURL(blob);\n",
              "      a.download = filename;\n",
              "      div.appendChild(a);\n",
              "      a.click();\n",
              "      div.remove();\n",
              "    }\n",
              "  "
            ]
          },
          "metadata": {}
        },
        {
          "output_type": "display_data",
          "data": {
            "text/plain": [
              "<IPython.core.display.Javascript object>"
            ],
            "application/javascript": [
              "download(\"download_4ab3219a-27b3-4546-b993-906b6dfc0573\", \"labeled_sms_dataset.csv\", 510716)"
            ]
          },
          "metadata": {}
        }
      ]
    },
    {
      "cell_type": "code",
      "source": [
        "# After cleaning and deduplication\n",
        "final_df = df[['message', 'cleaned_message', 'category']].copy()\n",
        "\n",
        "# Ensure clean strings (no NaN, no weird types)\n",
        "final_df['message'] = final_df['message'].astype(str).str.strip()\n",
        "final_df['cleaned_message'] = final_df['cleaned_message'].astype(str).str.strip()\n",
        "final_df['category'] = final_df['category'].astype(str).str.strip()\n",
        "\n",
        "# 🔥 CRITICAL: Remove any internal newlines within messages\n",
        "final_df['message'] = final_df['message'].str.replace(r'\\r|\\\\r|\\n|\\\\n', ' ', regex=True)\n",
        "final_df['cleaned_message'] = final_df['cleaned_message'].str.replace(r'\\r|\\\\r|\\n|\\\\n', ' ', regex=True)\n",
        "\n",
        "# ✅ Save with correct settings\n",
        "final_df.to_csv('labeled_sms_dataset_clean.csv',\n",
        "                index=False,\n",
        "                encoding='utf-8',\n",
        "                lineterminator='\\n')  # ← This ensures one row per line\n",
        "\n",
        "# Download safely\n",
        "from google.colab import files\n",
        "files.download('labeled_sms_dataset_clean.csv')"
      ],
      "metadata": {
        "colab": {
          "base_uri": "https://localhost:8080/",
          "height": 17
        },
        "id": "dyd4U24lMSwD",
        "outputId": "e4227b52-0b7c-40eb-c27f-fe391fb6ffb8"
      },
      "execution_count": null,
      "outputs": [
        {
          "output_type": "display_data",
          "data": {
            "text/plain": [
              "<IPython.core.display.Javascript object>"
            ],
            "application/javascript": [
              "\n",
              "    async function download(id, filename, size) {\n",
              "      if (!google.colab.kernel.accessAllowed) {\n",
              "        return;\n",
              "      }\n",
              "      const div = document.createElement('div');\n",
              "      const label = document.createElement('label');\n",
              "      label.textContent = `Downloading \"${filename}\": `;\n",
              "      div.appendChild(label);\n",
              "      const progress = document.createElement('progress');\n",
              "      progress.max = size;\n",
              "      div.appendChild(progress);\n",
              "      document.body.appendChild(div);\n",
              "\n",
              "      const buffers = [];\n",
              "      let downloaded = 0;\n",
              "\n",
              "      const channel = await google.colab.kernel.comms.open(id);\n",
              "      // Send a message to notify the kernel that we're ready.\n",
              "      channel.send({})\n",
              "\n",
              "      for await (const message of channel.messages) {\n",
              "        // Send a message to notify the kernel that we're ready.\n",
              "        channel.send({})\n",
              "        if (message.buffers) {\n",
              "          for (const buffer of message.buffers) {\n",
              "            buffers.push(buffer);\n",
              "            downloaded += buffer.byteLength;\n",
              "            progress.value = downloaded;\n",
              "          }\n",
              "        }\n",
              "      }\n",
              "      const blob = new Blob(buffers, {type: 'application/binary'});\n",
              "      const a = document.createElement('a');\n",
              "      a.href = window.URL.createObjectURL(blob);\n",
              "      a.download = filename;\n",
              "      div.appendChild(a);\n",
              "      a.click();\n",
              "      div.remove();\n",
              "    }\n",
              "  "
            ]
          },
          "metadata": {}
        },
        {
          "output_type": "display_data",
          "data": {
            "text/plain": [
              "<IPython.core.display.Javascript object>"
            ],
            "application/javascript": [
              "download(\"download_aecf9f15-dd03-4092-aaff-c384a35b7a1e\", \"labeled_sms_dataset_clean.csv\", 510716)"
            ]
          },
          "metadata": {}
        }
      ]
    },
    {
      "cell_type": "code",
      "source": [
        "df = pd.read_csv(\"labeled_sms_dataset_clean.csv\")\n",
        "print(df.head())\n",
        "print(f\"\\n📊 Shape: {df.shape}\")\n",
        "print(f\"Categories:\\n{df['category'].value_counts()}\")"
      ],
      "metadata": {
        "colab": {
          "base_uri": "https://localhost:8080/"
        },
        "id": "9RTBzY8vOA3p",
        "outputId": "fd4a4c4c-8a4a-4100-cde0-5461d088a69b"
      },
      "execution_count": null,
      "outputs": [
        {
          "output_type": "stream",
          "name": "stdout",
          "text": [
            "                                             message  \\\n",
            "0                                            Message   \n",
            "1  Final notice. Update your info: https://verify...   \n",
            "2  Reset your password now at https://get-rich-fa...   \n",
            "3  Your transaction ID is TXN471861. Please keep ...   \n",
            "4  Your package with tracking ID 162556 has been ...   \n",
            "\n",
            "                                     cleaned_message       category  \n",
            "0                                            message       Category  \n",
            "1  final notice. update your info: https://verify...           Spam  \n",
            "2  reset your password now at https://get-rich-fa...           Spam  \n",
            "3  your transaction id is txn471861. please keep ...  Transactional  \n",
            "4  your package with tracking id 162556 has been ...  Transactional  \n",
            "\n",
            "📊 Shape: (4221, 3)\n",
            "Categories:\n",
            "category\n",
            "Transactional    4020\n",
            "Spam              100\n",
            "Promotional       100\n",
            "Category            1\n",
            "Name: count, dtype: int64\n"
          ]
        }
      ]
    },
    {
      "cell_type": "code",
      "source": [
        "# Load the CSV again to verify\n",
        "df = pd.read_csv(\"labeled_sms_dataset_clean.csv\")\n",
        "print(df.head())\n",
        "print(f\"\\nShape: {df.shape}\")\n",
        "print(\"\\nCategories:\")\n",
        "print(df['category'].value_counts())"
      ],
      "metadata": {
        "colab": {
          "base_uri": "https://localhost:8080/"
        },
        "id": "I43f4TkhOzUa",
        "outputId": "70343d22-7732-4d89-fd54-519b86efed58"
      },
      "execution_count": null,
      "outputs": [
        {
          "output_type": "stream",
          "name": "stdout",
          "text": [
            "                                             message  \\\n",
            "0                                            Message   \n",
            "1  Final notice. Update your info: https://verify...   \n",
            "2  Reset your password now at https://get-rich-fa...   \n",
            "3  Your transaction ID is TXN471861. Please keep ...   \n",
            "4  Your package with tracking ID 162556 has been ...   \n",
            "\n",
            "                                     cleaned_message       category  \n",
            "0                                            message       Category  \n",
            "1  final notice. update your info: https://verify...           Spam  \n",
            "2  reset your password now at https://get-rich-fa...           Spam  \n",
            "3  your transaction id is txn471861. please keep ...  Transactional  \n",
            "4  your package with tracking id 162556 has been ...  Transactional  \n",
            "\n",
            "Shape: (4221, 3)\n",
            "\n",
            "Categories:\n",
            "category\n",
            "Transactional    4020\n",
            "Spam              100\n",
            "Promotional       100\n",
            "Category            1\n",
            "Name: count, dtype: int64\n"
          ]
        }
      ]
    },
    {
      "cell_type": "code",
      "source": [
        "# Save with proper settings\n",
        "df.to_csv('labeled_sms_dataset_clean.csv',\n",
        "          index=False,\n",
        "          encoding='utf-8',\n",
        "          lineterminator='\\n')"
      ],
      "metadata": {
        "id": "8RSMzpoVPOzx"
      },
      "execution_count": null,
      "outputs": []
    },
    {
      "cell_type": "code",
      "source": [
        "from google.colab import files\n",
        "files.download('labeled_sms_dataset_clean.csv')"
      ],
      "metadata": {
        "colab": {
          "base_uri": "https://localhost:8080/",
          "height": 17
        },
        "id": "-Y7zvcbpPVVu",
        "outputId": "eae9c98a-439f-45a3-800c-a8ab23e6b13d"
      },
      "execution_count": null,
      "outputs": [
        {
          "output_type": "display_data",
          "data": {
            "text/plain": [
              "<IPython.core.display.Javascript object>"
            ],
            "application/javascript": [
              "\n",
              "    async function download(id, filename, size) {\n",
              "      if (!google.colab.kernel.accessAllowed) {\n",
              "        return;\n",
              "      }\n",
              "      const div = document.createElement('div');\n",
              "      const label = document.createElement('label');\n",
              "      label.textContent = `Downloading \"${filename}\": `;\n",
              "      div.appendChild(label);\n",
              "      const progress = document.createElement('progress');\n",
              "      progress.max = size;\n",
              "      div.appendChild(progress);\n",
              "      document.body.appendChild(div);\n",
              "\n",
              "      const buffers = [];\n",
              "      let downloaded = 0;\n",
              "\n",
              "      const channel = await google.colab.kernel.comms.open(id);\n",
              "      // Send a message to notify the kernel that we're ready.\n",
              "      channel.send({})\n",
              "\n",
              "      for await (const message of channel.messages) {\n",
              "        // Send a message to notify the kernel that we're ready.\n",
              "        channel.send({})\n",
              "        if (message.buffers) {\n",
              "          for (const buffer of message.buffers) {\n",
              "            buffers.push(buffer);\n",
              "            downloaded += buffer.byteLength;\n",
              "            progress.value = downloaded;\n",
              "          }\n",
              "        }\n",
              "      }\n",
              "      const blob = new Blob(buffers, {type: 'application/binary'});\n",
              "      const a = document.createElement('a');\n",
              "      a.href = window.URL.createObjectURL(blob);\n",
              "      a.download = filename;\n",
              "      div.appendChild(a);\n",
              "      a.click();\n",
              "      div.remove();\n",
              "    }\n",
              "  "
            ]
          },
          "metadata": {}
        },
        {
          "output_type": "display_data",
          "data": {
            "text/plain": [
              "<IPython.core.display.Javascript object>"
            ],
            "application/javascript": [
              "download(\"download_9176cace-7372-4470-8c30-f6face66cd28\", \"labeled_sms_dataset_clean.csv\", 510716)"
            ]
          },
          "metadata": {}
        }
      ]
    },
    {
      "cell_type": "code",
      "source": [
        "# After cleaning and deduplication\n",
        "final_df = df[['message', 'cleaned_message', 'category']].copy()\n",
        "\n",
        "# Ensure clean strings\n",
        "final_df['message'] = final_df['message'].astype(str).str.strip()\n",
        "final_df['cleaned_message'] = final_df['cleaned_message'].astype(str).str.strip()\n",
        "final_df['category'] = final_df['category'].astype(str).str.strip()\n",
        "\n",
        "# 🔥 CRITICAL: Replace any internal line breaks within cells\n",
        "final_df['message'] = final_df['message'].str.replace(r'\\r|\\\\r|\\n|\\\\n', ' ', regex=True)\n",
        "final_df['cleaned_message'] = final_df['cleaned_message'].str.replace(r'\\r|\\\\r|\\n|\\\\n', ' ', regex=True)\n",
        "\n",
        "# ✅ Save with correct settings\n",
        "final_df.to_csv('labeled_sms_dataset_clean_final.csv',\n",
        "                index=False,\n",
        "                encoding='utf-8',\n",
        "                lineterminator='\\n')  # This ensures each row ends with a newline\n",
        "\n",
        "# Download safely\n",
        "from google.colab import files\n",
        "files.download('labeled_sms_dataset_clean_final.csv')"
      ],
      "metadata": {
        "colab": {
          "base_uri": "https://localhost:8080/",
          "height": 17
        },
        "id": "9vprhD_VPZl9",
        "outputId": "0d2ab286-d25b-4a04-b867-472637132952"
      },
      "execution_count": null,
      "outputs": [
        {
          "output_type": "display_data",
          "data": {
            "text/plain": [
              "<IPython.core.display.Javascript object>"
            ],
            "application/javascript": [
              "\n",
              "    async function download(id, filename, size) {\n",
              "      if (!google.colab.kernel.accessAllowed) {\n",
              "        return;\n",
              "      }\n",
              "      const div = document.createElement('div');\n",
              "      const label = document.createElement('label');\n",
              "      label.textContent = `Downloading \"${filename}\": `;\n",
              "      div.appendChild(label);\n",
              "      const progress = document.createElement('progress');\n",
              "      progress.max = size;\n",
              "      div.appendChild(progress);\n",
              "      document.body.appendChild(div);\n",
              "\n",
              "      const buffers = [];\n",
              "      let downloaded = 0;\n",
              "\n",
              "      const channel = await google.colab.kernel.comms.open(id);\n",
              "      // Send a message to notify the kernel that we're ready.\n",
              "      channel.send({})\n",
              "\n",
              "      for await (const message of channel.messages) {\n",
              "        // Send a message to notify the kernel that we're ready.\n",
              "        channel.send({})\n",
              "        if (message.buffers) {\n",
              "          for (const buffer of message.buffers) {\n",
              "            buffers.push(buffer);\n",
              "            downloaded += buffer.byteLength;\n",
              "            progress.value = downloaded;\n",
              "          }\n",
              "        }\n",
              "      }\n",
              "      const blob = new Blob(buffers, {type: 'application/binary'});\n",
              "      const a = document.createElement('a');\n",
              "      a.href = window.URL.createObjectURL(blob);\n",
              "      a.download = filename;\n",
              "      div.appendChild(a);\n",
              "      a.click();\n",
              "      div.remove();\n",
              "    }\n",
              "  "
            ]
          },
          "metadata": {}
        },
        {
          "output_type": "display_data",
          "data": {
            "text/plain": [
              "<IPython.core.display.Javascript object>"
            ],
            "application/javascript": [
              "download(\"download_1eead3d4-e711-48ce-bd97-65cc8849c24d\", \"labeled_sms_dataset_clean_final.csv\", 510716)"
            ]
          },
          "metadata": {}
        }
      ]
    },
    {
      "cell_type": "code",
      "source": [
        "import pandas as pd\n",
        "df = pd.read_csv(\"labeled_sms_dataset_clean_final.csv\")\n",
        "print(df.head())\n",
        "print(df.shape)  # Should show (~50000, 3)"
      ],
      "metadata": {
        "colab": {
          "base_uri": "https://localhost:8080/"
        },
        "id": "oRVbh1U0P8yw",
        "outputId": "90fbb1d1-ccfe-4ff0-d7db-14e564b772df"
      },
      "execution_count": null,
      "outputs": [
        {
          "output_type": "stream",
          "name": "stdout",
          "text": [
            "                                             message  \\\n",
            "0                                            Message   \n",
            "1  Final notice. Update your info: https://verify...   \n",
            "2  Reset your password now at https://get-rich-fa...   \n",
            "3  Your transaction ID is TXN471861. Please keep ...   \n",
            "4  Your package with tracking ID 162556 has been ...   \n",
            "\n",
            "                                     cleaned_message       category  \n",
            "0                                            message       Category  \n",
            "1  final notice. update your info: https://verify...           Spam  \n",
            "2  reset your password now at https://get-rich-fa...           Spam  \n",
            "3  your transaction id is txn471861. please keep ...  Transactional  \n",
            "4  your package with tracking id 162556 has been ...  Transactional  \n",
            "(4221, 3)\n"
          ]
        }
      ]
    },
    {
      "cell_type": "code",
      "source": [
        "# After cleaning and deduplication\n",
        "final_df = df[['message', 'cleaned_message', 'category']].copy()\n",
        "\n",
        "# Ensure clean strings\n",
        "final_df['message'] = final_df['message'].astype(str).str.strip()\n",
        "final_df['cleaned_message'] = final_df['cleaned_message'].astype(str).str.strip()\n",
        "final_df['category'] = final_df['category'].astype(str).str.strip()\n",
        "\n",
        "# Remove any internal newlines within messages\n",
        "final_df['message'] = final_df['message'].str.replace(r'\\r|\\n|\\\\r|\\\\n', ' ', regex=True)\n",
        "final_df['cleaned_message'] = final_df['cleaned_message'].str.replace(r'\\r|\\n|\\\\r|\\\\n', ' ', regex=True)\n",
        "\n",
        "# ✅ Save with correct settings\n",
        "final_df.to_csv('labeled_sms_dataset_clean_1.csv',\n",
        "                index=False,\n",
        "                encoding='utf-8',\n",
        "                lineterminator='\\n')  # Ensures proper newlines\n",
        "\n",
        "# Download safely\n",
        "from google.colab import files\n",
        "files.download('labeled_sms_dataset_clean_1.csv')"
      ],
      "metadata": {
        "colab": {
          "base_uri": "https://localhost:8080/",
          "height": 17
        },
        "id": "JoLA-4blQCfP",
        "outputId": "ea65f269-937c-44b4-d6e0-ad0295173e7e"
      },
      "execution_count": null,
      "outputs": [
        {
          "output_type": "display_data",
          "data": {
            "text/plain": [
              "<IPython.core.display.Javascript object>"
            ],
            "application/javascript": [
              "\n",
              "    async function download(id, filename, size) {\n",
              "      if (!google.colab.kernel.accessAllowed) {\n",
              "        return;\n",
              "      }\n",
              "      const div = document.createElement('div');\n",
              "      const label = document.createElement('label');\n",
              "      label.textContent = `Downloading \"${filename}\": `;\n",
              "      div.appendChild(label);\n",
              "      const progress = document.createElement('progress');\n",
              "      progress.max = size;\n",
              "      div.appendChild(progress);\n",
              "      document.body.appendChild(div);\n",
              "\n",
              "      const buffers = [];\n",
              "      let downloaded = 0;\n",
              "\n",
              "      const channel = await google.colab.kernel.comms.open(id);\n",
              "      // Send a message to notify the kernel that we're ready.\n",
              "      channel.send({})\n",
              "\n",
              "      for await (const message of channel.messages) {\n",
              "        // Send a message to notify the kernel that we're ready.\n",
              "        channel.send({})\n",
              "        if (message.buffers) {\n",
              "          for (const buffer of message.buffers) {\n",
              "            buffers.push(buffer);\n",
              "            downloaded += buffer.byteLength;\n",
              "            progress.value = downloaded;\n",
              "          }\n",
              "        }\n",
              "      }\n",
              "      const blob = new Blob(buffers, {type: 'application/binary'});\n",
              "      const a = document.createElement('a');\n",
              "      a.href = window.URL.createObjectURL(blob);\n",
              "      a.download = filename;\n",
              "      div.appendChild(a);\n",
              "      a.click();\n",
              "      div.remove();\n",
              "    }\n",
              "  "
            ]
          },
          "metadata": {}
        },
        {
          "output_type": "display_data",
          "data": {
            "text/plain": [
              "<IPython.core.display.Javascript object>"
            ],
            "application/javascript": [
              "download(\"download_8c736344-dfe5-4b41-903e-1135b1aa51c4\", \"labeled_sms_dataset_clean_1.csv\", 510716)"
            ]
          },
          "metadata": {}
        }
      ]
    },
    {
      "cell_type": "code",
      "source": [
        "import pandas as pd\n",
        "df = pd.read_csv(\"labeled_sms_dataset_clean_1.csv\")\n",
        "print(df.head())\n",
        "print(f\"\\nShape: {df.shape}\")\n",
        "print(\"\\nCategories:\")\n",
        "print(df['category'].value_counts())"
      ],
      "metadata": {
        "colab": {
          "base_uri": "https://localhost:8080/"
        },
        "id": "jxeic7WBQVg5",
        "outputId": "048954d2-86ef-481a-9f43-adc5d1e2311f"
      },
      "execution_count": null,
      "outputs": [
        {
          "output_type": "stream",
          "name": "stdout",
          "text": [
            "                                             message  \\\n",
            "0                                            Message   \n",
            "1  Final notice. Update your info: https://verify...   \n",
            "2  Reset your password now at https://get-rich-fa...   \n",
            "3  Your transaction ID is TXN471861. Please keep ...   \n",
            "4  Your package with tracking ID 162556 has been ...   \n",
            "\n",
            "                                     cleaned_message       category  \n",
            "0                                            message       Category  \n",
            "1  final notice. update your info: https://verify...           Spam  \n",
            "2  reset your password now at https://get-rich-fa...           Spam  \n",
            "3  your transaction id is txn471861. please keep ...  Transactional  \n",
            "4  your package with tracking id 162556 has been ...  Transactional  \n",
            "\n",
            "Shape: (4221, 3)\n",
            "\n",
            "Categories:\n",
            "category\n",
            "Transactional    4020\n",
            "Spam              100\n",
            "Promotional       100\n",
            "Category            1\n",
            "Name: count, dtype: int64\n"
          ]
        }
      ]
    },
    {
      "cell_type": "code",
      "source": [
        "# After cleaning and deduplication\n",
        "final_df = df[['message', 'cleaned_message', 'category']].copy()\n",
        "\n",
        "# Ensure clean strings\n",
        "final_df['message'] = final_df['message'].astype(str).str.strip()\n",
        "final_df['cleaned_message'] = final_df['cleaned_message'].astype(str).str.strip()\n",
        "final_df['category'] = final_df['category'].astype(str).str.strip()\n",
        "\n",
        "# Remove any internal newlines or carriage returns within messages\n",
        "final_df['message'] = final_df['message'].str.replace(r'\\r|\\n|\\\\r|\\\\n', ' ', regex=True)\n",
        "final_df['cleaned_message'] = final_df['cleaned_message'].str.replace(r'\\r|\\n|\\\\r|\\\\n', ' ', regex=True)\n",
        "\n",
        "# ✅ Save with CORRECT settings\n",
        "final_df.to_csv('labeled_sms_dataset_CLEAN.csv',\n",
        "                index=False,\n",
        "                encoding='utf-8',\n",
        "                lineterminator='\\n')  # ← Critical!\n",
        "\n",
        "# Download\n",
        "from google.colab import files\n",
        "files.download('labeled_sms_dataset_CLEAN.csv')"
      ],
      "metadata": {
        "colab": {
          "base_uri": "https://localhost:8080/",
          "height": 17
        },
        "id": "wmBdB9JmQYy-",
        "outputId": "7ceac95e-07a0-4ecb-9936-f474355aed46"
      },
      "execution_count": null,
      "outputs": [
        {
          "output_type": "display_data",
          "data": {
            "text/plain": [
              "<IPython.core.display.Javascript object>"
            ],
            "application/javascript": [
              "\n",
              "    async function download(id, filename, size) {\n",
              "      if (!google.colab.kernel.accessAllowed) {\n",
              "        return;\n",
              "      }\n",
              "      const div = document.createElement('div');\n",
              "      const label = document.createElement('label');\n",
              "      label.textContent = `Downloading \"${filename}\": `;\n",
              "      div.appendChild(label);\n",
              "      const progress = document.createElement('progress');\n",
              "      progress.max = size;\n",
              "      div.appendChild(progress);\n",
              "      document.body.appendChild(div);\n",
              "\n",
              "      const buffers = [];\n",
              "      let downloaded = 0;\n",
              "\n",
              "      const channel = await google.colab.kernel.comms.open(id);\n",
              "      // Send a message to notify the kernel that we're ready.\n",
              "      channel.send({})\n",
              "\n",
              "      for await (const message of channel.messages) {\n",
              "        // Send a message to notify the kernel that we're ready.\n",
              "        channel.send({})\n",
              "        if (message.buffers) {\n",
              "          for (const buffer of message.buffers) {\n",
              "            buffers.push(buffer);\n",
              "            downloaded += buffer.byteLength;\n",
              "            progress.value = downloaded;\n",
              "          }\n",
              "        }\n",
              "      }\n",
              "      const blob = new Blob(buffers, {type: 'application/binary'});\n",
              "      const a = document.createElement('a');\n",
              "      a.href = window.URL.createObjectURL(blob);\n",
              "      a.download = filename;\n",
              "      div.appendChild(a);\n",
              "      a.click();\n",
              "      div.remove();\n",
              "    }\n",
              "  "
            ]
          },
          "metadata": {}
        },
        {
          "output_type": "display_data",
          "data": {
            "text/plain": [
              "<IPython.core.display.Javascript object>"
            ],
            "application/javascript": [
              "download(\"download_59e586a0-ded4-4c9f-8fe1-d0f92fa37e30\", \"labeled_sms_dataset_CLEAN.csv\", 510716)"
            ]
          },
          "metadata": {}
        }
      ]
    },
    {
      "cell_type": "code",
      "source": [
        "from google.colab import files\n",
        "import re\n",
        "\n",
        "# Upload your file\n",
        "uploaded = files.upload()\n",
        "\n",
        "# Get filename (you can rename it manually if needed)\n",
        "filename = list(uploaded.keys())[0]\n",
        "filename = \"labeled_sms_dataset_cleaned.csv\"\n",
        "print(f\"✅ Uploaded: {filename}\")\n",
        "\n",
        "# Read entire content as string\n",
        "with open(filename, 'r', encoding='utf-8') as f:\n",
        "    raw_text = f.read().strip()\n",
        "\n",
        "print(\"🔍 First 200 chars:\", raw_text[:200])"
      ],
      "metadata": {
        "colab": {
          "base_uri": "https://localhost:8080/",
          "height": 266
        },
        "id": "w3hGay5hSAWb",
        "outputId": "01efadc2-1d58-4779-b863-c2ed01c33059"
      },
      "execution_count": null,
      "outputs": [
        {
          "output_type": "display_data",
          "data": {
            "text/plain": [
              "<IPython.core.display.HTML object>"
            ],
            "text/html": [
              "\n",
              "     <input type=\"file\" id=\"files-22ec0aa0-06cd-417d-8f3a-b57a5a7b3c8c\" name=\"files[]\" multiple disabled\n",
              "        style=\"border:none\" />\n",
              "     <output id=\"result-22ec0aa0-06cd-417d-8f3a-b57a5a7b3c8c\">\n",
              "      Upload widget is only available when the cell has been executed in the\n",
              "      current browser session. Please rerun this cell to enable.\n",
              "      </output>\n",
              "      <script>// Copyright 2017 Google LLC\n",
              "//\n",
              "// Licensed under the Apache License, Version 2.0 (the \"License\");\n",
              "// you may not use this file except in compliance with the License.\n",
              "// You may obtain a copy of the License at\n",
              "//\n",
              "//      http://www.apache.org/licenses/LICENSE-2.0\n",
              "//\n",
              "// Unless required by applicable law or agreed to in writing, software\n",
              "// distributed under the License is distributed on an \"AS IS\" BASIS,\n",
              "// WITHOUT WARRANTIES OR CONDITIONS OF ANY KIND, either express or implied.\n",
              "// See the License for the specific language governing permissions and\n",
              "// limitations under the License.\n",
              "\n",
              "/**\n",
              " * @fileoverview Helpers for google.colab Python module.\n",
              " */\n",
              "(function(scope) {\n",
              "function span(text, styleAttributes = {}) {\n",
              "  const element = document.createElement('span');\n",
              "  element.textContent = text;\n",
              "  for (const key of Object.keys(styleAttributes)) {\n",
              "    element.style[key] = styleAttributes[key];\n",
              "  }\n",
              "  return element;\n",
              "}\n",
              "\n",
              "// Max number of bytes which will be uploaded at a time.\n",
              "const MAX_PAYLOAD_SIZE = 100 * 1024;\n",
              "\n",
              "function _uploadFiles(inputId, outputId) {\n",
              "  const steps = uploadFilesStep(inputId, outputId);\n",
              "  const outputElement = document.getElementById(outputId);\n",
              "  // Cache steps on the outputElement to make it available for the next call\n",
              "  // to uploadFilesContinue from Python.\n",
              "  outputElement.steps = steps;\n",
              "\n",
              "  return _uploadFilesContinue(outputId);\n",
              "}\n",
              "\n",
              "// This is roughly an async generator (not supported in the browser yet),\n",
              "// where there are multiple asynchronous steps and the Python side is going\n",
              "// to poll for completion of each step.\n",
              "// This uses a Promise to block the python side on completion of each step,\n",
              "// then passes the result of the previous step as the input to the next step.\n",
              "function _uploadFilesContinue(outputId) {\n",
              "  const outputElement = document.getElementById(outputId);\n",
              "  const steps = outputElement.steps;\n",
              "\n",
              "  const next = steps.next(outputElement.lastPromiseValue);\n",
              "  return Promise.resolve(next.value.promise).then((value) => {\n",
              "    // Cache the last promise value to make it available to the next\n",
              "    // step of the generator.\n",
              "    outputElement.lastPromiseValue = value;\n",
              "    return next.value.response;\n",
              "  });\n",
              "}\n",
              "\n",
              "/**\n",
              " * Generator function which is called between each async step of the upload\n",
              " * process.\n",
              " * @param {string} inputId Element ID of the input file picker element.\n",
              " * @param {string} outputId Element ID of the output display.\n",
              " * @return {!Iterable<!Object>} Iterable of next steps.\n",
              " */\n",
              "function* uploadFilesStep(inputId, outputId) {\n",
              "  const inputElement = document.getElementById(inputId);\n",
              "  inputElement.disabled = false;\n",
              "\n",
              "  const outputElement = document.getElementById(outputId);\n",
              "  outputElement.innerHTML = '';\n",
              "\n",
              "  const pickedPromise = new Promise((resolve) => {\n",
              "    inputElement.addEventListener('change', (e) => {\n",
              "      resolve(e.target.files);\n",
              "    });\n",
              "  });\n",
              "\n",
              "  const cancel = document.createElement('button');\n",
              "  inputElement.parentElement.appendChild(cancel);\n",
              "  cancel.textContent = 'Cancel upload';\n",
              "  const cancelPromise = new Promise((resolve) => {\n",
              "    cancel.onclick = () => {\n",
              "      resolve(null);\n",
              "    };\n",
              "  });\n",
              "\n",
              "  // Wait for the user to pick the files.\n",
              "  const files = yield {\n",
              "    promise: Promise.race([pickedPromise, cancelPromise]),\n",
              "    response: {\n",
              "      action: 'starting',\n",
              "    }\n",
              "  };\n",
              "\n",
              "  cancel.remove();\n",
              "\n",
              "  // Disable the input element since further picks are not allowed.\n",
              "  inputElement.disabled = true;\n",
              "\n",
              "  if (!files) {\n",
              "    return {\n",
              "      response: {\n",
              "        action: 'complete',\n",
              "      }\n",
              "    };\n",
              "  }\n",
              "\n",
              "  for (const file of files) {\n",
              "    const li = document.createElement('li');\n",
              "    li.append(span(file.name, {fontWeight: 'bold'}));\n",
              "    li.append(span(\n",
              "        `(${file.type || 'n/a'}) - ${file.size} bytes, ` +\n",
              "        `last modified: ${\n",
              "            file.lastModifiedDate ? file.lastModifiedDate.toLocaleDateString() :\n",
              "                                    'n/a'} - `));\n",
              "    const percent = span('0% done');\n",
              "    li.appendChild(percent);\n",
              "\n",
              "    outputElement.appendChild(li);\n",
              "\n",
              "    const fileDataPromise = new Promise((resolve) => {\n",
              "      const reader = new FileReader();\n",
              "      reader.onload = (e) => {\n",
              "        resolve(e.target.result);\n",
              "      };\n",
              "      reader.readAsArrayBuffer(file);\n",
              "    });\n",
              "    // Wait for the data to be ready.\n",
              "    let fileData = yield {\n",
              "      promise: fileDataPromise,\n",
              "      response: {\n",
              "        action: 'continue',\n",
              "      }\n",
              "    };\n",
              "\n",
              "    // Use a chunked sending to avoid message size limits. See b/62115660.\n",
              "    let position = 0;\n",
              "    do {\n",
              "      const length = Math.min(fileData.byteLength - position, MAX_PAYLOAD_SIZE);\n",
              "      const chunk = new Uint8Array(fileData, position, length);\n",
              "      position += length;\n",
              "\n",
              "      const base64 = btoa(String.fromCharCode.apply(null, chunk));\n",
              "      yield {\n",
              "        response: {\n",
              "          action: 'append',\n",
              "          file: file.name,\n",
              "          data: base64,\n",
              "        },\n",
              "      };\n",
              "\n",
              "      let percentDone = fileData.byteLength === 0 ?\n",
              "          100 :\n",
              "          Math.round((position / fileData.byteLength) * 100);\n",
              "      percent.textContent = `${percentDone}% done`;\n",
              "\n",
              "    } while (position < fileData.byteLength);\n",
              "  }\n",
              "\n",
              "  // All done.\n",
              "  yield {\n",
              "    response: {\n",
              "      action: 'complete',\n",
              "    }\n",
              "  };\n",
              "}\n",
              "\n",
              "scope.google = scope.google || {};\n",
              "scope.google.colab = scope.google.colab || {};\n",
              "scope.google.colab._files = {\n",
              "  _uploadFiles,\n",
              "  _uploadFilesContinue,\n",
              "};\n",
              "})(self);\n",
              "</script> "
            ]
          },
          "metadata": {}
        },
        {
          "output_type": "stream",
          "name": "stdout",
          "text": [
            "Saving labeled_sms_dataset_cleaned.csv to labeled_sms_dataset_cleaned.csv\n"
          ]
        },
        {
          "output_type": "error",
          "ename": "NameError",
          "evalue": "name 'labeled_sms_dataset_cleaned' is not defined",
          "traceback": [
            "\u001b[0;31m---------------------------------------------------------------------------\u001b[0m",
            "\u001b[0;31mNameError\u001b[0m                                 Traceback (most recent call last)",
            "\u001b[0;32m/tmp/ipython-input-59-1922770049.py\u001b[0m in \u001b[0;36m<cell line: 0>\u001b[0;34m()\u001b[0m\n\u001b[1;32m      7\u001b[0m \u001b[0;31m# Get filename (you can rename it manually if needed)\u001b[0m\u001b[0;34m\u001b[0m\u001b[0;34m\u001b[0m\u001b[0m\n\u001b[1;32m      8\u001b[0m \u001b[0mfilename\u001b[0m \u001b[0;34m=\u001b[0m \u001b[0mlist\u001b[0m\u001b[0;34m(\u001b[0m\u001b[0muploaded\u001b[0m\u001b[0;34m.\u001b[0m\u001b[0mkeys\u001b[0m\u001b[0;34m(\u001b[0m\u001b[0;34m)\u001b[0m\u001b[0;34m)\u001b[0m\u001b[0;34m[\u001b[0m\u001b[0;36m0\u001b[0m\u001b[0;34m]\u001b[0m\u001b[0;34m\u001b[0m\u001b[0;34m\u001b[0m\u001b[0m\n\u001b[0;32m----> 9\u001b[0;31m \u001b[0mprint\u001b[0m\u001b[0;34m(\u001b[0m\u001b[0;34mf\"✅ Uploaded: {labeled_sms_dataset_cleaned.csv}\"\u001b[0m\u001b[0;34m)\u001b[0m\u001b[0;34m\u001b[0m\u001b[0;34m\u001b[0m\u001b[0m\n\u001b[0m\u001b[1;32m     10\u001b[0m \u001b[0;34m\u001b[0m\u001b[0m\n\u001b[1;32m     11\u001b[0m \u001b[0;31m# Read entire content as string\u001b[0m\u001b[0;34m\u001b[0m\u001b[0;34m\u001b[0m\u001b[0m\n",
            "\u001b[0;31mNameError\u001b[0m: name 'labeled_sms_dataset_cleaned' is not defined"
          ]
        }
      ]
    },
    {
      "cell_type": "code",
      "source": [
        "filename = list(uploaded.keys())[0]\n",
        "filename = \"labeled_sms_dataset_cleaned.csv\"\n",
        "print(f\"✅ Uploaded: {filename}\")\n",
        "\n",
        "# Read entire content as string\n",
        "with open(filename, 'r', encoding='utf-8') as f:\n",
        "    raw_text = f.read().strip()\n",
        "\n",
        "print(\"🔍 First 200 chars:\", raw_text[:200])"
      ],
      "metadata": {
        "colab": {
          "base_uri": "https://localhost:8080/"
        },
        "id": "18tlfnLSSy1p",
        "outputId": "0305f929-5470-4f6c-ecf2-84e7de29e4ae"
      },
      "execution_count": null,
      "outputs": [
        {
          "output_type": "stream",
          "name": "stdout",
          "text": [
            "✅ Uploaded: labeled_sms_dataset_cleaned.csv\n",
            "🔍 First 200 chars: message,cleaned_message,category\n",
            "Final notice. Update your info: https://verify-now.online,final notice. update your info: https://verify-now.online,Spam\n",
            "Reset your password now at https://get-rich-fa\n"
          ]
        }
      ]
    },
    {
      "cell_type": "code",
      "source": [
        "# Add newline at start for easier processing\n",
        "text = \"\\n\" + raw_text\n",
        "\n",
        "# Use regex to split wherever a new message begins (after a category)\n",
        "# Each message has: [original],[cleaned],[category]\n",
        "pattern = r'(?:\\n|,)(?=Your |Reset |Final notice|Enjoy |\\w.*?:|\\d{4,})'\n",
        "\n",
        "# But better approach: Insert \\n before every new \"original message\" that follows a category\n",
        "# We detect patterns like: ...TransactionalYour OTP → should be ...Transactional\\nYour OTP\n",
        "\n",
        "fixed = re.sub(r'(,Spam)(?=Your |Reset |Final notice|Check |Enjoy |Your package)', r'\\1\\n', raw_text)\n",
        "fixed = re.sub(r'(,Transactional)(?=Your |Reset |Final notice|Check |Enjoy |Your package)', r'\\1\\n', fixed)\n",
        "fixed = re.sub(r'(,Promotional)(?=Check |Enjoy |Limited time|Buy now)', r'\\1\\n', fixed)\n",
        "\n",
        "# Now every message is on its own line\n",
        "lines = [line.strip() for line in fixed.split('\\n') if line.strip()]\n",
        "print(f\"✅ Found {len(lines)} reconstructed messages\")"
      ],
      "metadata": {
        "colab": {
          "base_uri": "https://localhost:8080/"
        },
        "id": "E6B62P_dTPgM",
        "outputId": "394aa11d-2d7c-4e94-e9f1-ef7eca905a85"
      },
      "execution_count": null,
      "outputs": [
        {
          "output_type": "stream",
          "name": "stdout",
          "text": [
            "✅ Found 4221 reconstructed messages\n"
          ]
        }
      ]
    },
    {
      "cell_type": "code",
      "source": [
        "import pandas as pd\n",
        "\n",
        "data = []\n",
        "for line in lines:\n",
        "    # Split by comma\n",
        "    parts = line.split(',')\n",
        "    if len(parts) >= 3:\n",
        "        message = parts[0].strip()\n",
        "        cleaned = parts[1].strip()\n",
        "        cat = parts[2].strip()\n",
        "        # Remove any trailing letters if category got merged with next message\n",
        "        if cat in ['Spam', 'Transactional', 'Promotional']:\n",
        "            data.append([message, cleaned, cat])\n",
        "\n",
        "# Create DataFrame\n",
        "df = pd.DataFrame(data, columns=['message', 'cleaned_message', 'category'])\n",
        "print(f\"📊 Final dataset shape: {df.shape}\")\n",
        "print(\"\\n📋 First few rows:\")\n",
        "print(df.head())"
      ],
      "metadata": {
        "colab": {
          "base_uri": "https://localhost:8080/"
        },
        "id": "xnm4rcGvTvQo",
        "outputId": "9786336e-d00c-403b-a484-815827206cfe"
      },
      "execution_count": null,
      "outputs": [
        {
          "output_type": "stream",
          "name": "stdout",
          "text": [
            "📊 Final dataset shape: (4210, 3)\n",
            "\n",
            "📋 First few rows:\n",
            "                                             message  \\\n",
            "0  Final notice. Update your info: https://verify...   \n",
            "1  Reset your password now at https://get-rich-fa...   \n",
            "2  Your transaction ID is TXN471861. Please keep ...   \n",
            "3  Your package with tracking ID 162556 has been ...   \n",
            "4  Earn money fast! Start today: https://login-no...   \n",
            "\n",
            "                                     cleaned_message       category  \n",
            "0  final notice. update your info: https://verify...           Spam  \n",
            "1  reset your password now at https://get-rich-fa...           Spam  \n",
            "2  your transaction id is txn471861. please keep ...  Transactional  \n",
            "3  your package with tracking id 162556 has been ...  Transactional  \n",
            "4  earn money fast! start today: https://login-no...           Spam  \n"
          ]
        }
      ]
    },
    {
      "cell_type": "code",
      "source": [
        "print(\"\\n🔢 Category distribution:\")\n",
        "print(df['category'].value_counts())"
      ],
      "metadata": {
        "colab": {
          "base_uri": "https://localhost:8080/"
        },
        "id": "goRqpeawTxj_",
        "outputId": "bbcfc7b6-4fec-4e3e-8b88-57d778343c67"
      },
      "execution_count": null,
      "outputs": [
        {
          "output_type": "stream",
          "name": "stdout",
          "text": [
            "\n",
            "🔢 Category distribution:\n",
            "category\n",
            "Transactional    4010\n",
            "Spam              100\n",
            "Promotional       100\n",
            "Name: count, dtype: int64\n"
          ]
        }
      ]
    },
    {
      "cell_type": "code",
      "source": [
        "# Ensure clean strings\n",
        "df['message'] = df['message'].astype(str).str.strip()\n",
        "df['cleaned_message'] = df['cleaned_message'].astype(str).str.strip()\n",
        "df['category'] = df['category'].astype(str).str.strip()\n",
        "\n",
        "# Remove internal weird characters\n",
        "df['message'] = df['message'].str.replace(r'[\\r\\n]+', ' ', regex=True)\n",
        "df['cleaned_message'] = df['cleaned_message'].str.replace(r'[\\r\\n]+', ' ', regex=True)\n",
        "\n",
        "# ✅ Export with correct settings\n",
        "df.to_csv('labeled_sms_dataset_CLEAN.csv',\n",
        "          index=False,\n",
        "          encoding='utf-8',\n",
        "          lineterminator='\\n')\n",
        "\n",
        "# Download\n",
        "files.download('labeled_sms_dataset_CLEAN.csv')"
      ],
      "metadata": {
        "colab": {
          "base_uri": "https://localhost:8080/",
          "height": 17
        },
        "id": "lGrAlW1zT5sS",
        "outputId": "a9bc2d3b-2f06-4b15-d80a-5f1cda9bebcd"
      },
      "execution_count": null,
      "outputs": [
        {
          "output_type": "display_data",
          "data": {
            "text/plain": [
              "<IPython.core.display.Javascript object>"
            ],
            "application/javascript": [
              "\n",
              "    async function download(id, filename, size) {\n",
              "      if (!google.colab.kernel.accessAllowed) {\n",
              "        return;\n",
              "      }\n",
              "      const div = document.createElement('div');\n",
              "      const label = document.createElement('label');\n",
              "      label.textContent = `Downloading \"${filename}\": `;\n",
              "      div.appendChild(label);\n",
              "      const progress = document.createElement('progress');\n",
              "      progress.max = size;\n",
              "      div.appendChild(progress);\n",
              "      document.body.appendChild(div);\n",
              "\n",
              "      const buffers = [];\n",
              "      let downloaded = 0;\n",
              "\n",
              "      const channel = await google.colab.kernel.comms.open(id);\n",
              "      // Send a message to notify the kernel that we're ready.\n",
              "      channel.send({})\n",
              "\n",
              "      for await (const message of channel.messages) {\n",
              "        // Send a message to notify the kernel that we're ready.\n",
              "        channel.send({})\n",
              "        if (message.buffers) {\n",
              "          for (const buffer of message.buffers) {\n",
              "            buffers.push(buffer);\n",
              "            downloaded += buffer.byteLength;\n",
              "            progress.value = downloaded;\n",
              "          }\n",
              "        }\n",
              "      }\n",
              "      const blob = new Blob(buffers, {type: 'application/binary'});\n",
              "      const a = document.createElement('a');\n",
              "      a.href = window.URL.createObjectURL(blob);\n",
              "      a.download = filename;\n",
              "      div.appendChild(a);\n",
              "      a.click();\n",
              "      div.remove();\n",
              "    }\n",
              "  "
            ]
          },
          "metadata": {}
        },
        {
          "output_type": "display_data",
          "data": {
            "text/plain": [
              "<IPython.core.display.Javascript object>"
            ],
            "application/javascript": [
              "download(\"download_4a883532-082f-4ee5-8702-fe3dd239191d\", \"labeled_sms_dataset_CLEAN.csv\", 508933)"
            ]
          },
          "metadata": {}
        }
      ]
    },
    {
      "cell_type": "code",
      "source": [
        "# Test reload\n",
        "test_df = pd.read_csv('labeled_sms_dataset_CLEAN.csv')\n",
        "print(test_df.head())\n",
        "print(f\"\\nShape: {test_df.shape}\")"
      ],
      "metadata": {
        "colab": {
          "base_uri": "https://localhost:8080/"
        },
        "id": "8dj1aPDhT9LT",
        "outputId": "babfd92d-1c35-4576-dce6-aea774e97542"
      },
      "execution_count": null,
      "outputs": [
        {
          "output_type": "stream",
          "name": "stdout",
          "text": [
            "                                             message  \\\n",
            "0  Final notice. Update your info: https://verify...   \n",
            "1  Reset your password now at https://get-rich-fa...   \n",
            "2  Your transaction ID is TXN471861. Please keep ...   \n",
            "3  Your package with tracking ID 162556 has been ...   \n",
            "4  Earn money fast! Start today: https://login-no...   \n",
            "\n",
            "                                     cleaned_message       category  \n",
            "0  final notice. update your info: https://verify...           Spam  \n",
            "1  reset your password now at https://get-rich-fa...           Spam  \n",
            "2  your transaction id is txn471861. please keep ...  Transactional  \n",
            "3  your package with tracking id 162556 has been ...  Transactional  \n",
            "4  earn money fast! start today: https://login-no...           Spam  \n",
            "\n",
            "Shape: (4210, 3)\n"
          ]
        }
      ]
    },
    {
      "cell_type": "code",
      "source": [
        "import pandas as pd\n",
        "\n",
        "# Load your current cleaned dataset\n",
        "df = pd.read_csv(\"labeled_sms_dataset_CLEAN.csv\")\n",
        "\n",
        "# Check counts\n",
        "print(df['category'].value_counts())"
      ],
      "metadata": {
        "colab": {
          "base_uri": "https://localhost:8080/"
        },
        "id": "cKcAhvLDT_8u",
        "outputId": "964488ad-24bc-44f8-af39-1624339b3063"
      },
      "execution_count": null,
      "outputs": [
        {
          "output_type": "stream",
          "name": "stdout",
          "text": [
            "category\n",
            "Transactional    4010\n",
            "Spam              100\n",
            "Promotional       100\n",
            "Name: count, dtype: int64\n"
          ]
        }
      ]
    },
    {
      "cell_type": "code",
      "source": [
        "from sklearn.utils import resample\n",
        "\n",
        "# Separate each class\n",
        "df_transactional = df[df['category'] == 'Transactional']\n",
        "df_spam = df[df['category'] == 'Spam']\n",
        "df_promo = df[df['category'] == 'Promotional']\n",
        "\n",
        "# Upsample spam and promo to match Transactional (4010)\n",
        "df_spam_upsampled = resample(df_spam, replace=True, n_samples=4010, random_state=42)\n",
        "df_promo_upsampled = resample(df_promo, replace=True, n_samples=4010, random_state=42)\n",
        "\n",
        "# Combine all into a new balanced dataframe\n",
        "df_balanced = pd.concat([df_transactional, df_spam_upsampled, df_promo_upsampled])\n",
        "\n",
        "# Shuffle the dataset\n",
        "df_balanced = df_balanced.sample(frac=1, random_state=42).reset_index(drop=True)\n",
        "\n",
        "# Check new counts\n",
        "print(df_balanced['category'].value_counts())\n"
      ],
      "metadata": {
        "colab": {
          "base_uri": "https://localhost:8080/"
        },
        "id": "0h0OTcFhZT0M",
        "outputId": "8cffb9b3-f7f1-4267-890b-63494f7f3f7c"
      },
      "execution_count": null,
      "outputs": [
        {
          "output_type": "stream",
          "name": "stdout",
          "text": [
            "category\n",
            "Spam             4010\n",
            "Promotional      4010\n",
            "Transactional    4010\n",
            "Name: count, dtype: int64\n"
          ]
        }
      ]
    },
    {
      "cell_type": "code",
      "source": [
        "df_balanced.to_csv(\"labeled_sms_dataset_BALANCED.csv\", index=False)\n"
      ],
      "metadata": {
        "id": "Q2PYR0lFZVYw"
      },
      "execution_count": null,
      "outputs": []
    },
    {
      "cell_type": "code",
      "source": [],
      "metadata": {
        "id": "tMWSysVDZX4c"
      },
      "execution_count": null,
      "outputs": []
    }
  ]
}